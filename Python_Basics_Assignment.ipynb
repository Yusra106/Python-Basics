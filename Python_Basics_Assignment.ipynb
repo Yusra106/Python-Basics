{
  "nbformat": 4,
  "nbformat_minor": 0,
  "metadata": {
    "colab": {
      "provenance": []
    },
    "kernelspec": {
      "name": "python3",
      "display_name": "Python 3"
    },
    "language_info": {
      "name": "python"
    }
  },
  "cells": [
    {
      "cell_type": "markdown",
      "source": [
        "# **PYTHON BASICS QUESTIONS**\n",
        "\n",
        "\n"
      ],
      "metadata": {
        "id": "SGUY9n_xDQdd"
      }
    },
    {
      "cell_type": "markdown",
      "source": [
        "Q1. What is python, and why is it popular?"
      ],
      "metadata": {
        "id": "Ku65Nz_fFy8q"
      }
    },
    {
      "cell_type": "markdown",
      "source": [
        "Python is a computer programming language that can be used to create\n",
        "software, websites, and analyze data. It's a general-purpose language that can\n",
        "be used for a variety of tasks.\n",
        "Python's importance stems from its versatility, ease of use, and extensive libraries, making it a go-to language for various fields like AI, web development, data science, and automation, driving innovation and efficiency across industries."
      ],
      "metadata": {
        "id": "u6WrB3LLGHVy"
      }
    },
    {
      "cell_type": "markdown",
      "source": [
        "Q2. What is an interpreter in Python?"
      ],
      "metadata": {
        "id": "q_ZL2FuwGNFS"
      }
    },
    {
      "cell_type": "markdown",
      "source": [
        "In Python, an interpreter is a program that reads and executes Python code line by line, translating it into machine-readable instructions for the computer to understand and run."
      ],
      "metadata": {
        "id": "gPg5NGWBGUOq"
      }
    },
    {
      "cell_type": "markdown",
      "source": [
        "Q3. What are pre-defined keywords in Python?"
      ],
      "metadata": {
        "id": "bIOqf_MCGVRa"
      }
    },
    {
      "cell_type": "markdown",
      "source": [
        "Keywords are reserved words in Python that have predefined meanings and cannot be used as identifiers (e.g., variable names, function names). They are crucial for defining the syntax and structure of Python code. For example:-- False, None, True: Boolean and null values.\n",
        "and, or, not: Logical operators.\n",
        "as: Used for aliasing when importing modules.\n",
        "assert: Used for debugging purposes.\n",
        "async, await: Used for asynchronous programming (introduced in Python 3.5).\n",
        "break, continue: Control flow statements for loops.\n",
        "class: Used to define a class.\n",
        "def: Used to define a function.\n",
        "del: Used to delete objects.\n",
        "elif, else, if: Conditional statements. etc"
      ],
      "metadata": {
        "id": "pVC9kMsmGiVC"
      }
    },
    {
      "cell_type": "markdown",
      "source": [
        "Q4. Can Keywords be used as variable names?"
      ],
      "metadata": {
        "id": "uGs5tuO4GjlS"
      }
    },
    {
      "cell_type": "markdown",
      "source": [
        "No, keywords cannot be used as variable names in most programming languages because keywords have predefined meanings and are used to define the language's syntax."
      ],
      "metadata": {
        "id": "JUu7AUcdnL_Y"
      }
    },
    {
      "cell_type": "markdown",
      "source": [
        "Q5. What is mutability in Python?"
      ],
      "metadata": {
        "id": "Lp6yyPt8Gtwa"
      }
    },
    {
      "cell_type": "markdown",
      "source": [
        "Mutability in Python refers to the ability of an object to be modified after it is created. If an object's state or value can be changed after its creation, it is considered mutable. Conversely, if an object's state cannot be changed after creation, it is considered immutable.\n",
        "Common mutable data types in Python include: lists, dictionaries, and sets.\n",
        "When a mutable object is modified, the changes are made directly to the object in memory. This means that any variables referencing the object will reflect the changes. This behavior can be advantageous for efficiency when working with large datasets or when frequent modifications are necessary."
      ],
      "metadata": {
        "id": "FZTg8xiIGz96"
      }
    },
    {
      "cell_type": "code",
      "source": [
        "# Example of mutability with lists\n",
        "my_list = [1, 2, 3]\n",
        "my_list.append(4)  # Modifies the original list\n",
        "print(my_list)  # Output: [1, 2, 3, 4]\n",
        "\n",
        "# Example of mutability with dictionaries\n",
        "my_dict = {\"a\": 1, \"b\": 2}\n",
        "my_dict[\"c\"] = 3  # Modifies the original dictionary\n",
        "print(my_dict)  # Output: {'a': 1, 'b': 2, 'c': 3}"
      ],
      "metadata": {
        "colab": {
          "base_uri": "https://localhost:8080/"
        },
        "id": "hEZHAnvansKZ",
        "outputId": "e6f72798-7d78-446b-a2fe-24ede4c360db"
      },
      "execution_count": null,
      "outputs": [
        {
          "output_type": "stream",
          "name": "stdout",
          "text": [
            "[1, 2, 3, 4]\n",
            "{'a': 1, 'b': 2, 'c': 3}\n"
          ]
        }
      ]
    },
    {
      "cell_type": "markdown",
      "source": [
        "Q6.Why are lists mutable, but tuples are immutable?"
      ],
      "metadata": {
        "id": "g-5FMvcrG0-i"
      }
    },
    {
      "cell_type": "markdown",
      "source": [
        "Lists are mutable (changeable) because they are designed for dynamic data storage, allowing elements to be added, removed, or modified after creation. Tuples, on the other hand, are immutable (unchangeable) for efficiency and to ensure data integrity, as their values are fixed after creation."
      ],
      "metadata": {
        "id": "G_3_cnypHMKy"
      }
    },
    {
      "cell_type": "code",
      "source": [
        "# Example of mutability with lists\n",
        "my_list = [1, 2, 3]\n",
        "my_list.append(4)  # Modifies the original list\n",
        "print(my_list)  # Output: [1, 2, 3, 4]\n",
        "\n"
      ],
      "metadata": {
        "colab": {
          "base_uri": "https://localhost:8080/"
        },
        "id": "RkhkJ2tmoG1J",
        "outputId": "729406d4-3a4a-499b-f40b-632503703be2"
      },
      "execution_count": null,
      "outputs": [
        {
          "output_type": "stream",
          "name": "stdout",
          "text": [
            "[1, 2, 3, 4]\n"
          ]
        }
      ]
    },
    {
      "cell_type": "code",
      "source": [
        "# Example of immutability with tuple\n",
        "my_tuple =(\"pwskills\",\"data science\",\"machine learning\")\n",
        "my_tuple[1]=\"Data Science with generative AI\"  # Modifing the original tuple will give an error\n",
        "print(my_tuple)"
      ],
      "metadata": {
        "colab": {
          "base_uri": "https://localhost:8080/",
          "height": 193
        },
        "id": "IF5yuINaqF2i",
        "outputId": "4db811f8-7b61-4f18-b34d-5b7cbc865425"
      },
      "execution_count": null,
      "outputs": [
        {
          "output_type": "error",
          "ename": "TypeError",
          "evalue": "'tuple' object does not support item assignment",
          "traceback": [
            "\u001b[0;31m---------------------------------------------------------------------------\u001b[0m",
            "\u001b[0;31mTypeError\u001b[0m                                 Traceback (most recent call last)",
            "\u001b[0;32m<ipython-input-5-285ffa0a89d7>\u001b[0m in \u001b[0;36m<cell line: 0>\u001b[0;34m()\u001b[0m\n\u001b[1;32m      1\u001b[0m \u001b[0;31m# Example of immutability with tuple\u001b[0m\u001b[0;34m\u001b[0m\u001b[0;34m\u001b[0m\u001b[0m\n\u001b[1;32m      2\u001b[0m \u001b[0mmy_tuple\u001b[0m \u001b[0;34m=\u001b[0m\u001b[0;34m(\u001b[0m\u001b[0;34m\"pwskills\"\u001b[0m\u001b[0;34m,\u001b[0m\u001b[0;34m\"data science\"\u001b[0m\u001b[0;34m,\u001b[0m\u001b[0;34m\"machine learning\"\u001b[0m\u001b[0;34m)\u001b[0m\u001b[0;34m\u001b[0m\u001b[0;34m\u001b[0m\u001b[0m\n\u001b[0;32m----> 3\u001b[0;31m \u001b[0mmy_tuple\u001b[0m\u001b[0;34m[\u001b[0m\u001b[0;36m1\u001b[0m\u001b[0;34m]\u001b[0m\u001b[0;34m=\u001b[0m\u001b[0;34m\"Data Science with generative AI\"\u001b[0m  \u001b[0;31m# Modifing the original tuple will give an error\u001b[0m\u001b[0;34m\u001b[0m\u001b[0;34m\u001b[0m\u001b[0m\n\u001b[0m\u001b[1;32m      4\u001b[0m \u001b[0mprint\u001b[0m\u001b[0;34m(\u001b[0m\u001b[0mmy_tuple\u001b[0m\u001b[0;34m)\u001b[0m\u001b[0;34m\u001b[0m\u001b[0;34m\u001b[0m\u001b[0m\n",
            "\u001b[0;31mTypeError\u001b[0m: 'tuple' object does not support item assignment"
          ]
        }
      ]
    },
    {
      "cell_type": "markdown",
      "source": [
        "Q7.What is the difference between \"==\" and \"is\" operator in Python?"
      ],
      "metadata": {
        "id": "tGuna9LjHNSb"
      }
    },
    {
      "cell_type": "markdown",
      "source": [
        "The key difference between the == and is operators in Python lies in what they compare:\n",
        "== (Equality Operator):\n",
        "Checks if the values of two objects are equal. It compares the content or data stored within the objects.\n",
        "is (Identity Operator):\n",
        "Checks if two variables refer to the same object in memory. It determines if they have the same identity or memory address."
      ],
      "metadata": {
        "id": "xa6RqYgaHaS6"
      }
    },
    {
      "cell_type": "code",
      "source": [
        "a = [1, 2, 3]\n",
        "b = [1, 2, 3]\n",
        "c = a\n",
        "\n",
        "print(a == b)  # Output: True (values are equal)\n",
        "print(a is b)  # Output: False (different objects in memory)\n",
        "print(a is c)  # Output: True (same object in memory)"
      ],
      "metadata": {
        "colab": {
          "base_uri": "https://localhost:8080/"
        },
        "id": "WJjclNPcqnfB",
        "outputId": "dee12add-36b3-4e51-f620-9ef8da85503a"
      },
      "execution_count": null,
      "outputs": [
        {
          "output_type": "stream",
          "name": "stdout",
          "text": [
            "True\n",
            "False\n",
            "True\n"
          ]
        }
      ]
    },
    {
      "cell_type": "markdown",
      "source": [
        "In the example above, a and b have the same values, so a == b is true. However, they are distinct objects in memory, thus a is b is false. On the other hand, c refers to the same object as a, making a is c true"
      ],
      "metadata": {
        "id": "rwArWuWtqwP5"
      }
    },
    {
      "cell_type": "markdown",
      "source": [
        "Q8. What are logical operators in Python?"
      ],
      "metadata": {
        "id": "Gai-Pnp8Hbri"
      }
    },
    {
      "cell_type": "markdown",
      "source": [
        "Logical operators in Python are used to combine or modify boolean values (True or False). There are three main logical operators: and, or, and not.\n",
        "**and**: Returns True if both operands are True, otherwise it returns False.\n",
        "**or**: Returns True if at least one of the operands is True, otherwise it returns False.\n",
        "**not**: Returns the opposite boolean value of the operand. If the operand is True, it returns False, and vice versa."
      ],
      "metadata": {
        "id": "-EkWvaI0Hiz7"
      }
    },
    {
      "cell_type": "code",
      "source": [
        "x = 5\n",
        "y = 10\n",
        "\n",
        "print(x < 10 and y > 5) # Output: True (both conditions are true)\n",
        "print(x > 10 or y > 5)  # Output: True (at least one condition is true)\n",
        "print(not(x > 10))      # Output: True (the condition is false, so 'not' makes it true)"
      ],
      "metadata": {
        "colab": {
          "base_uri": "https://localhost:8080/"
        },
        "id": "38AKmk6BrUX5",
        "outputId": "5cc0c909-64c3-4770-8b5e-5f8f55340a2a"
      },
      "execution_count": null,
      "outputs": [
        {
          "output_type": "stream",
          "name": "stdout",
          "text": [
            "True\n",
            "True\n",
            "True\n"
          ]
        }
      ]
    },
    {
      "cell_type": "markdown",
      "source": [
        "Q9. What is type casting in Python?"
      ],
      "metadata": {
        "id": "f9WMZB0bHkFD"
      }
    },
    {
      "cell_type": "markdown",
      "source": [
        "Type casting, also known as type conversion, is the process of changing a variable's data type to another. Python supports two types of type casting: implicit and explicit."
      ],
      "metadata": {
        "id": "hW7fhfzrHoca"
      }
    },
    {
      "cell_type": "markdown",
      "source": [
        "Q10. What is the difference between implicit and explicit type casting?"
      ],
      "metadata": {
        "id": "fTAmvD1DHpjC"
      }
    },
    {
      "cell_type": "markdown",
      "source": [
        "**Implicit type casting**: Python automatically converts one data type to another without any explicit instruction from the programmer. This usually happens when performing operations involving different data types, where Python promotes one data type to another to prevent data loss."
      ],
      "metadata": {
        "id": "4FdQ4JFOH1NR"
      }
    },
    {
      "cell_type": "code",
      "source": [
        "num_int = 123\n",
        "num_float = 1.23\n",
        "num_new = num_int + num_float\n",
        "print(\"datatype of num_int:\",type(num_int))\n",
        "print(\"datatype of num_float:\",type(num_float))\n",
        "print(\"Value of num_new:\",num_new)\n",
        "print(\"datatype of num_new:\",type(num_new))"
      ],
      "metadata": {
        "colab": {
          "base_uri": "https://localhost:8080/"
        },
        "id": "GmjShgG3r3YS",
        "outputId": "faf505e0-b767-4b24-c8d8-68377b74176b"
      },
      "execution_count": null,
      "outputs": [
        {
          "output_type": "stream",
          "name": "stdout",
          "text": [
            "datatype of num_int: <class 'int'>\n",
            "datatype of num_float: <class 'float'>\n",
            "Value of num_new: 124.23\n",
            "datatype of num_new: <class 'float'>\n"
          ]
        }
      ]
    },
    {
      "cell_type": "markdown",
      "source": [
        "**Explicit type casting**: The programmer manually converts a data type to another using built-in functions like int(), float(), str(), etc. This is useful when you need to convert a value to a specific data type for further operations."
      ],
      "metadata": {
        "id": "oaZeP-y9sHig"
      }
    },
    {
      "cell_type": "code",
      "source": [
        "num_str = \"15\"\n",
        "num_int = int(num_str) # converting str into integer data type\n",
        "print(\"datatype of num_str:\",type(num_str))\n",
        "print(\"datatype of num_int:\",type(num_int))"
      ],
      "metadata": {
        "colab": {
          "base_uri": "https://localhost:8080/"
        },
        "id": "VG0QGbBssNpp",
        "outputId": "3f94ee8d-316f-4615-ea6e-0ea5f2734fb1"
      },
      "execution_count": null,
      "outputs": [
        {
          "output_type": "stream",
          "name": "stdout",
          "text": [
            "datatype of num_str: <class 'str'>\n",
            "datatype of num_int: <class 'int'>\n"
          ]
        }
      ]
    },
    {
      "cell_type": "markdown",
      "source": [
        "Q11. What is the purpose of conditional statements in Python?"
      ],
      "metadata": {
        "id": "kVV9ep7RH2VC"
      }
    },
    {
      "cell_type": "markdown",
      "source": [
        "The purpose of conditional statements in Python is to control the flow of execution in a program based on whether certain conditions are met. They allow a program to make decisions and execute different blocks of code accordingly. The primary conditional statements in Python are if, elif (else if), and else.\n",
        "**if statement**: Executes a block of code only if a specified condition is true.\n",
        "**elif statement**: Checks for multiple conditions sequentially and executes the corresponding block of code for the first condition that evaluates to true.\n",
        "**else statement**: Executes a block of code if none of the preceding if or elif conditions are true."
      ],
      "metadata": {
        "id": "3cMV0ud8H_Yy"
      }
    },
    {
      "cell_type": "markdown",
      "source": [
        "Q12. How does the elif statement work ?"
      ],
      "metadata": {
        "id": "05mZuzwrIAmy"
      }
    },
    {
      "cell_type": "markdown",
      "source": [
        "he elif statement in Python, short for \"else if,\" allows you to check for multiple conditions sequentially within a conditional block, executing the code block associated with the first true condition encountered."
      ],
      "metadata": {
        "id": "znLVjVpIIGJj"
      }
    },
    {
      "cell_type": "code",
      "source": [
        "age =int(input(\"Enter your age\"))\n",
        "if age < 18:\n",
        "  print(\"You are a minor.\")\n",
        "elif age >= 18 and age < 65:\n",
        "  print(\"You are an adult.\")\n",
        "else:\n",
        "  print(\"You are a senior citizen.\")"
      ],
      "metadata": {
        "colab": {
          "base_uri": "https://localhost:8080/"
        },
        "id": "WgQDmGDfubDK",
        "outputId": "d8547bd7-daad-42c6-b4d8-3facf4e36a86"
      },
      "execution_count": null,
      "outputs": [
        {
          "output_type": "stream",
          "name": "stdout",
          "text": [
            "Enter your age26\n",
            "You are an adult.\n"
          ]
        }
      ]
    },
    {
      "cell_type": "markdown",
      "source": [
        "Q13. What is the difference between for and while loops ?"
      ],
      "metadata": {
        "id": "cFOpd0rVIHL6"
      }
    },
    {
      "cell_type": "markdown",
      "source": [
        "The primary difference between for and while loops lies in when you know the number of iterations. **for** loops are used when you know the number of iterations beforehand, while **while** loops are used when the number of iterations depends on a dynamic condition."
      ],
      "metadata": {
        "id": "eDAPu5-jIO6K"
      }
    },
    {
      "cell_type": "code",
      "source": [
        "#for loop\n",
        "for i in range(5):  # Loop 5 times\n",
        "    print(i)"
      ],
      "metadata": {
        "colab": {
          "base_uri": "https://localhost:8080/"
        },
        "id": "-vltPCKKvPQy",
        "outputId": "f6b876e5-8723-4354-d597-6b428c9d2ade"
      },
      "execution_count": null,
      "outputs": [
        {
          "output_type": "stream",
          "name": "stdout",
          "text": [
            "0\n",
            "1\n",
            "2\n",
            "3\n",
            "4\n"
          ]
        }
      ]
    },
    {
      "cell_type": "code",
      "source": [
        "#while loop\n",
        "count = 0\n",
        "while count < 5:  # Loop until count is no longer less than 5\n",
        "    print(count)\n",
        "    count += 1"
      ],
      "metadata": {
        "colab": {
          "base_uri": "https://localhost:8080/"
        },
        "id": "ozrbfKKOvWYh",
        "outputId": "915f99c7-89b0-4587-a3d0-cb2c75ddc391"
      },
      "execution_count": null,
      "outputs": [
        {
          "output_type": "stream",
          "name": "stdout",
          "text": [
            "0\n",
            "1\n",
            "2\n",
            "3\n",
            "4\n"
          ]
        }
      ]
    },
    {
      "cell_type": "markdown",
      "source": [
        "Q14. Describe a scenario where a while loop is more suitable than a for loop ?"
      ],
      "metadata": {
        "id": "LfetxTwpIRk7"
      }
    },
    {
      "cell_type": "markdown",
      "source": [
        "A while loop is more suitable than a for loop when you need to repeat a block of code until a specific condition is met, rather than for a fixed number of iterations or iterating over a collection. For example, prompting a user for input until they enter a valid format or reading a file line by line until the end of the file is reached.\n",
        "\n",
        "e.g Imagine you're writing a program that prompts a user to enter a password. You want to keep prompting them until they enter a password that meets certain criteria (e.g., minimum length, contains a number, etc.)."
      ],
      "metadata": {
        "id": "m3SD2OVXIb6i"
      }
    },
    {
      "cell_type": "code",
      "source": [
        "while True:  # Loop indefinitely until a valid password is entered\n",
        "    password = input(\"Enter a password: \")\n",
        "    if len(password) >= 8 and any(char.isdigit() for char in password):\n",
        "        print(\"Password accepted.\")\n",
        "        break  # Exit the loop\n",
        "    else:\n",
        "        print(\"Invalid password. Please try again.\")"
      ],
      "metadata": {
        "colab": {
          "base_uri": "https://localhost:8080/"
        },
        "id": "koJfCOja_PGE",
        "outputId": "dff0176b-1d67-4550-d401-c5bbc492dfe5"
      },
      "execution_count": 19,
      "outputs": [
        {
          "output_type": "stream",
          "name": "stdout",
          "text": [
            "Enter a password: yusra123\n",
            "Password accepted.\n"
          ]
        }
      ]
    },
    {
      "cell_type": "markdown",
      "source": [
        "# **PRACTICAL QUESTIONS**"
      ],
      "metadata": {
        "id": "RsUepXRHI0cy"
      }
    },
    {
      "cell_type": "markdown",
      "source": [
        "Q1. Write a Python program to print \"Hello World!\""
      ],
      "metadata": {
        "id": "9txuCMRgI79n"
      }
    },
    {
      "cell_type": "code",
      "source": [
        "print(\"Hello World!\")"
      ],
      "metadata": {
        "colab": {
          "base_uri": "https://localhost:8080/"
        },
        "id": "oO9dH3CPJef8",
        "outputId": "f59b7099-4340-43a2-81c1-3c8dd964b94d"
      },
      "execution_count": null,
      "outputs": [
        {
          "output_type": "stream",
          "name": "stdout",
          "text": [
            "Hello World!\n"
          ]
        }
      ]
    },
    {
      "cell_type": "markdown",
      "source": [
        "Q2. Write a Python program that display your name and age."
      ],
      "metadata": {
        "id": "AZlu1IykJfA7"
      }
    },
    {
      "cell_type": "code",
      "source": [
        "name=input(\"Enter your name \")\n",
        "age=int(input(\"Enter your age \"))\n",
        "print(\"Your Name is: \",name)\n",
        "print(\"Your Age is : \",age)"
      ],
      "metadata": {
        "colab": {
          "base_uri": "https://localhost:8080/"
        },
        "id": "ZrJgOjFLJlzT",
        "outputId": "a0255e66-7b3b-460b-97ec-82b0226b8601"
      },
      "execution_count": null,
      "outputs": [
        {
          "output_type": "stream",
          "name": "stdout",
          "text": [
            "Enter your name Yusra\n",
            "Enter your age 26\n",
            "Your Name is:  Yusra\n",
            "Your Age is :  26\n"
          ]
        }
      ]
    },
    {
      "cell_type": "markdown",
      "source": [
        "Q3. Write code to print all the pre-defined keywords in Python using the keyword library."
      ],
      "metadata": {
        "id": "xCzfJibDJmT7"
      }
    },
    {
      "cell_type": "code",
      "source": [
        "import keyword\n",
        "print(\"List of all python keywords is:\")\n",
        "print(keyword.kwlist)\n"
      ],
      "metadata": {
        "colab": {
          "base_uri": "https://localhost:8080/"
        },
        "id": "VsJy8eScJ7vv",
        "outputId": "d27c687e-7a07-47e0-eb61-4ef806132ba6"
      },
      "execution_count": null,
      "outputs": [
        {
          "output_type": "stream",
          "name": "stdout",
          "text": [
            "List of all python keywords is:\n",
            "['False', 'None', 'True', 'and', 'as', 'assert', 'async', 'await', 'break', 'class', 'continue', 'def', 'del', 'elif', 'else', 'except', 'finally', 'for', 'from', 'global', 'if', 'import', 'in', 'is', 'lambda', 'nonlocal', 'not', 'or', 'pass', 'raise', 'return', 'try', 'while', 'with', 'yield']\n"
          ]
        }
      ]
    },
    {
      "cell_type": "code",
      "source": [
        "help(\"keywords\")"
      ],
      "metadata": {
        "colab": {
          "base_uri": "https://localhost:8080/"
        },
        "id": "9_FMIVK6Yj8B",
        "outputId": "ba045f78-46ef-46dd-9387-1f432b79c3ae"
      },
      "execution_count": null,
      "outputs": [
        {
          "output_type": "stream",
          "name": "stdout",
          "text": [
            "\n",
            "Here is a list of the Python keywords.  Enter any keyword to get more help.\n",
            "\n",
            "False               class               from                or\n",
            "None                continue            global              pass\n",
            "True                def                 if                  raise\n",
            "and                 del                 import              return\n",
            "as                  elif                in                  try\n",
            "assert              else                is                  while\n",
            "async               except              lambda              with\n",
            "await               finally             nonlocal            yield\n",
            "break               for                 not                 \n",
            "\n"
          ]
        }
      ]
    },
    {
      "cell_type": "markdown",
      "source": [
        "Q4. Write a Python program that check if a given word is a Python keyword."
      ],
      "metadata": {
        "id": "jIXDTmOsJ9Zu"
      }
    },
    {
      "cell_type": "code",
      "source": [
        "def is_keyword(word):\n",
        "  \"\"\"Checks if a given word is a Python keyword.\"\"\"\n",
        "  return keyword.iskeyword(word)\n",
        "\n",
        "\n",
        "word = input(\"Enter a word: \")\n",
        "if is_keyword(word):\n",
        "  print(f\"'{word}' is a Python keyword.\")\n",
        "else:\n",
        "  print(f\"'{word}' is not a Python keyword.\")\n"
      ],
      "metadata": {
        "colab": {
          "base_uri": "https://localhost:8080/"
        },
        "id": "TDphH5OcKL7s",
        "outputId": "a1dc63d7-db2a-46ca-c577-32bd693953ce"
      },
      "execution_count": null,
      "outputs": [
        {
          "output_type": "stream",
          "name": "stdout",
          "text": [
            "Enter a word: yus\n",
            "'yus' is not a Python keyword.\n"
          ]
        }
      ]
    },
    {
      "cell_type": "markdown",
      "source": [
        "Q5.Create a list and tuple in Python, and demonstrate how attempting to change an element works differently for each."
      ],
      "metadata": {
        "id": "um3blcwNKMoz"
      }
    },
    {
      "cell_type": "code",
      "source": [
        "list = [1, 2, 3, 4, 5]\n",
        "tuple = (1, 2, 3, 4, 5)\n",
        "\n",
        "print(\"Original List:\", list)\n",
        "print(\"Original Tuple:\", tuple)\n",
        "\n",
        "# Attempting to change an element in the list\n",
        "list[2] = 10\n",
        "print(\"Modified List:\",list)  # Lists are mutable, so the change is successful.\n",
        "\n",
        "\n",
        "# Attempting to change an element in the tuple\n",
        "tuple[2] = 10\n",
        "print(\"Modified tuple:\",tuple) # Tuples are immutable, so attempting to change an element raises a TypeError.\n",
        "\n",
        "\n"
      ],
      "metadata": {
        "colab": {
          "base_uri": "https://localhost:8080/",
          "height": 263
        },
        "id": "5uqnJ5AkKhvi",
        "outputId": "0562e8a8-7443-40c4-a51a-6364e6e3bd6e"
      },
      "execution_count": null,
      "outputs": [
        {
          "output_type": "stream",
          "name": "stdout",
          "text": [
            "Original List: [1, 2, 3, 4, 5]\n",
            "Original Tuple: (1, 2, 3, 4, 5)\n",
            "Modified List: [1, 2, 10, 4, 5]\n"
          ]
        },
        {
          "output_type": "error",
          "ename": "TypeError",
          "evalue": "'tuple' object does not support item assignment",
          "traceback": [
            "\u001b[0;31m---------------------------------------------------------------------------\u001b[0m",
            "\u001b[0;31mTypeError\u001b[0m                                 Traceback (most recent call last)",
            "\u001b[0;32m<ipython-input-12-f1dfcf7af645>\u001b[0m in \u001b[0;36m<cell line: 0>\u001b[0;34m()\u001b[0m\n\u001b[1;32m     11\u001b[0m \u001b[0;34m\u001b[0m\u001b[0m\n\u001b[1;32m     12\u001b[0m \u001b[0;31m# Attempting to change an element in the tuple\u001b[0m\u001b[0;34m\u001b[0m\u001b[0;34m\u001b[0m\u001b[0m\n\u001b[0;32m---> 13\u001b[0;31m \u001b[0mtuple\u001b[0m\u001b[0;34m[\u001b[0m\u001b[0;36m2\u001b[0m\u001b[0;34m]\u001b[0m \u001b[0;34m=\u001b[0m \u001b[0;36m10\u001b[0m\u001b[0;34m\u001b[0m\u001b[0;34m\u001b[0m\u001b[0m\n\u001b[0m\u001b[1;32m     14\u001b[0m \u001b[0mprint\u001b[0m\u001b[0;34m(\u001b[0m\u001b[0;34m\"Modified tuple:\"\u001b[0m\u001b[0;34m,\u001b[0m\u001b[0mtuple\u001b[0m\u001b[0;34m)\u001b[0m \u001b[0;31m# Tuples are immutable, so attempting to change an element raises a TypeError.\u001b[0m\u001b[0;34m\u001b[0m\u001b[0;34m\u001b[0m\u001b[0m\n\u001b[1;32m     15\u001b[0m \u001b[0;34m\u001b[0m\u001b[0m\n",
            "\u001b[0;31mTypeError\u001b[0m: 'tuple' object does not support item assignment"
          ]
        }
      ]
    },
    {
      "cell_type": "markdown",
      "source": [
        "Q6. Write a function to demonstrate the behaviour of mutable and immutable arguments."
      ],
      "metadata": {
        "id": "G3uhlpB4KiE_"
      }
    },
    {
      "cell_type": "code",
      "source": [
        "def modify_arguments(arg1, arg2):\n",
        "  \"\"\"Demonstrates the behavior of mutable and immutable arguments.\n",
        "\n",
        "  Args:\n",
        "    arg1: A list (mutable).\n",
        "    arg2: An integer (immutable).\n",
        "  \"\"\"\n",
        "  arg1.append(4)  # Modifies the list directly, as it's mutable.\n",
        "  arg2 = arg2 + 1  # Creates a new integer object, original arg2 is unchanged.\n",
        "  print(\"Inside function:\", arg1, arg2)\n",
        "\n",
        "\n",
        "my_list = [1, 2, 3]\n",
        "my_int = 10\n",
        "\n",
        "print(\"Before function:\", my_list, my_int)\n",
        "modify_arguments(my_list, my_int)\n",
        "print(\"After function:\", my_list, my_int)\n"
      ],
      "metadata": {
        "colab": {
          "base_uri": "https://localhost:8080/"
        },
        "id": "dahg6saQK0n9",
        "outputId": "ff9405b2-5f3d-4efa-dace-c4b40be0dc1a"
      },
      "execution_count": null,
      "outputs": [
        {
          "output_type": "stream",
          "name": "stdout",
          "text": [
            "Before function: [1, 2, 3] 10\n",
            "Inside function: [1, 2, 3, 4] 11\n",
            "After function: [1, 2, 3, 4] 10\n"
          ]
        }
      ]
    },
    {
      "cell_type": "markdown",
      "source": [
        "Q7. Write a Python program that perform basic arithmetic operations on two user-input numbers."
      ],
      "metadata": {
        "id": "qNcQ6Sp4K0-2"
      }
    },
    {
      "cell_type": "code",
      "source": [
        "num1=int(input(\"Enter first number \"))\n",
        "num2=int(input(\"Enter second number \"))\n",
        "sum=num1+num2\n",
        "sub=num1-num2\n",
        "mul=num1*num2\n",
        "div=num1/num2\n",
        "print(\"Sum:\",sum)\n",
        "print(\"Subtraction:\",sub)\n",
        "print(\"Multiplication:\",mul)\n",
        "print(\"Division:\",div)"
      ],
      "metadata": {
        "colab": {
          "base_uri": "https://localhost:8080/"
        },
        "id": "OacMsOlxWN9t",
        "outputId": "15bbff19-ae6a-4743-8ea7-6f5f0b13f914"
      },
      "execution_count": null,
      "outputs": [
        {
          "output_type": "stream",
          "name": "stdout",
          "text": [
            "Enter first number 10\n",
            "Enter second number 5\n",
            "Sum: 15\n",
            "Subtraction: 5\n",
            "Multiplication: 50\n",
            "Division: 2.0\n"
          ]
        }
      ]
    },
    {
      "cell_type": "markdown",
      "source": [
        "Q8. Write a Python program to demonstrate the use of logical operators"
      ],
      "metadata": {
        "id": "Q_MHkudBLGR0"
      }
    },
    {
      "cell_type": "code",
      "source": [
        "# Example: Logical Operators (AND, OR, NOT) with generic variables\n",
        "a, b, c = True, False, True\n",
        "\n",
        "# AND: Both conditions must be True\n",
        "if a and c:\n",
        "    print(\"Both a and c are True (AND condition).\")\n",
        "\n",
        "# OR: At least one condition must be True\n",
        "if b or c:\n",
        "    print(\"Either b or c is True (OR condition).\")\n",
        "\n",
        "# NOT: Reverses the condition\n",
        "if not b:\n",
        "    print(\"b is False (NOT condition).\")"
      ],
      "metadata": {
        "colab": {
          "base_uri": "https://localhost:8080/"
        },
        "id": "1liuwgwB--sT",
        "outputId": "f0e0dfe0-7db7-45c6-8619-adc3da041618"
      },
      "execution_count": 20,
      "outputs": [
        {
          "output_type": "stream",
          "name": "stdout",
          "text": [
            "Both a and c are True (AND condition).\n",
            "Either b or c is True (OR condition).\n",
            "b is False (NOT condition).\n"
          ]
        }
      ]
    },
    {
      "cell_type": "markdown",
      "source": [
        "Q9. Write a Python program to convert user input from string to integer, float and boolean types."
      ],
      "metadata": {
        "id": "2ixYcrkfLPAA"
      }
    },
    {
      "cell_type": "code",
      "source": [
        "a=input(\"Enter a num\")# whatever the user enters that input will be store as string\n",
        "print(a)\n",
        "print(type(a))# str\n",
        "b=int(a) # type casting ,str to int\n",
        "print(b)\n",
        "print(type(b)) # int\n",
        "c=float(a) # type casting , int to float\n",
        "print(c)\n",
        "print(type(c)) # float\n",
        "d=bool(a) # type casting , float to boolean\n",
        "print(d)\n",
        "print(type(d)) # bool"
      ],
      "metadata": {
        "colab": {
          "base_uri": "https://localhost:8080/"
        },
        "id": "LTNEnB3t_DOr",
        "outputId": "e546a0fe-07f4-4164-ae43-1ec011bfa68d"
      },
      "execution_count": 21,
      "outputs": [
        {
          "output_type": "stream",
          "name": "stdout",
          "text": [
            "Enter a num34\n",
            "34\n",
            "<class 'str'>\n",
            "34\n",
            "<class 'int'>\n",
            "34.0\n",
            "<class 'float'>\n",
            "True\n",
            "<class 'bool'>\n"
          ]
        }
      ]
    },
    {
      "cell_type": "markdown",
      "source": [
        "Q10. Write a code to demonstrate type casting with list elements."
      ],
      "metadata": {
        "id": "GrIUHWLmLdJ-"
      }
    },
    {
      "cell_type": "code",
      "source": [
        "my_list = [\"10\", \"20\", \"30\", \"40.5\", \"True\"]\n",
        "\n",
        "# Convert string elements to integers\n",
        "int_list = [int(element) for element in my_list if element.isdigit()]\n",
        "print(\"Integer list:\", int_list)\n",
        "\n",
        "# Convert string elements to floats\n",
        "float_list = [float(element) for element in my_list if element.replace('.', '', 1).isdigit()]\n",
        "print(\"Float list:\", float_list)\n",
        "\n",
        "# Convert string elements to booleans\n",
        "bool_list = [bool(element) for element in my_list]\n",
        "print(\"Boolean list:\", bool_list)\n"
      ],
      "metadata": {
        "colab": {
          "base_uri": "https://localhost:8080/"
        },
        "id": "vFvol1n7_HDV",
        "outputId": "8506f0b5-c56d-4656-87f3-9225e0d53f78"
      },
      "execution_count": 22,
      "outputs": [
        {
          "output_type": "stream",
          "name": "stdout",
          "text": [
            "Integer list: [10, 20, 30]\n",
            "Float list: [10.0, 20.0, 30.0, 40.5]\n",
            "Boolean list: [True, True, True, True, True]\n"
          ]
        }
      ]
    },
    {
      "cell_type": "markdown",
      "source": [
        "Q11.Write a Python program that checks if a number is positive, negative , or zero."
      ],
      "metadata": {
        "id": "Jizb6jPcLpeu"
      }
    },
    {
      "cell_type": "code",
      "source": [
        "num=int(input(\"Enter a number \"))\n",
        "if num>0:\n",
        "  print(\"Number is positive\")\n",
        "elif num<0:\n",
        "  print(\"Number is negative\")\n",
        "else:\n",
        "  print(\"Number is zero\")"
      ],
      "metadata": {
        "colab": {
          "base_uri": "https://localhost:8080/"
        },
        "id": "nz4XKKXVLyv9",
        "outputId": "e6b0f581-fd3f-4679-9ee4-83e397c396aa"
      },
      "execution_count": null,
      "outputs": [
        {
          "output_type": "stream",
          "name": "stdout",
          "text": [
            "Enter a number 0\n",
            "Number is zero\n"
          ]
        }
      ]
    },
    {
      "cell_type": "markdown",
      "source": [
        "Q12. Write a for loop to print numbers from 1 to 10."
      ],
      "metadata": {
        "id": "5G15keN-LzHk"
      }
    },
    {
      "cell_type": "code",
      "source": [
        "for i in range(1,11):\n",
        "  print(i)"
      ],
      "metadata": {
        "colab": {
          "base_uri": "https://localhost:8080/"
        },
        "id": "QAQyTte_L6lR",
        "outputId": "7fb166fb-4bb7-42b8-e557-faa829071930"
      },
      "execution_count": null,
      "outputs": [
        {
          "output_type": "stream",
          "name": "stdout",
          "text": [
            "1\n",
            "2\n",
            "3\n",
            "4\n",
            "5\n",
            "6\n",
            "7\n",
            "8\n",
            "9\n",
            "10\n"
          ]
        }
      ]
    },
    {
      "cell_type": "markdown",
      "source": [
        "Q13. Write a Python program to find the sum of all even numbers between 1 and 50."
      ],
      "metadata": {
        "id": "6GDtWrOLL7GR"
      }
    },
    {
      "cell_type": "code",
      "source": [
        "sum=0\n",
        "for i in range(0,50,2):\n",
        "    sum=sum+i\n",
        "print(sum)\n"
      ],
      "metadata": {
        "colab": {
          "base_uri": "https://localhost:8080/"
        },
        "id": "kiWBDylSMJlH",
        "outputId": "1f8b3327-395a-483c-99b1-f6695a950c3e"
      },
      "execution_count": null,
      "outputs": [
        {
          "output_type": "stream",
          "name": "stdout",
          "text": [
            "600\n"
          ]
        }
      ]
    },
    {
      "cell_type": "markdown",
      "source": [
        "Q14. Write a Python program to reverse a string using while loop."
      ],
      "metadata": {
        "id": "5dpDYnQZMKFH"
      }
    },
    {
      "cell_type": "code",
      "source": [
        "name=input(\"Enter a string \")\n",
        "i=len(name)-1\n",
        "while i>=0:\n",
        "  print(name[i],end=\"\")\n",
        "  i=i-1"
      ],
      "metadata": {
        "colab": {
          "base_uri": "https://localhost:8080/"
        },
        "id": "DZbz80HpMQpo",
        "outputId": "b6d37019-8548-4bf4-9565-a642af92928f"
      },
      "execution_count": null,
      "outputs": [
        {
          "output_type": "stream",
          "name": "stdout",
          "text": [
            "Enter a string ÿusra\n",
            "arsuÿ"
          ]
        }
      ]
    },
    {
      "cell_type": "markdown",
      "source": [
        "Q15. Write a Python program to calculate the factorial of a number provided by the user using a while loop."
      ],
      "metadata": {
        "id": "lUVPADZNNzrn"
      }
    },
    {
      "cell_type": "code",
      "source": [
        "num=int(input(\"Enter a number to calculate factorial \"))\n",
        "fact=1\n",
        "while num>0:\n",
        "  fact=fact*num\n",
        "  num=num-1\n",
        "print(fact)"
      ],
      "metadata": {
        "colab": {
          "base_uri": "https://localhost:8080/"
        },
        "id": "8LSEgWYZOBFj",
        "outputId": "bb6b3e9e-dca4-4e09-c561-dedb1c8660a9"
      },
      "execution_count": null,
      "outputs": [
        {
          "output_type": "stream",
          "name": "stdout",
          "text": [
            "Enter a number to calculate factorial 4\n",
            "24\n"
          ]
        }
      ]
    }
  ]
}